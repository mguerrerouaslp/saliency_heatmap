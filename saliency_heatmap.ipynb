!pip install -q opencv-contrib-python

# Importar las librerías necesarias
import cv2
import numpy as np
import matplotlib.pyplot as plt
from google.colab import files

# Cargar la imagen desde tu dispositivo local
uploaded = files.upload()

# Asumir que solo se subió un archivo y obtener su nombre
image_filename = list(uploaded.keys())[0]

# Leer la imagen utilizando OpenCV
image = cv2.imread(image_filename)

# Verificar si la imagen se cargó correctamente
if image is None:
    raise Exception("Error al cargar la imagen. Asegúrate de que el archivo es una imagen válida.")

# Crear un objeto de saliencia utilizando el método de Histogram-based Contrast
saliency = cv2.saliency.StaticSaliencySpectralResidual_create()

# Computar el mapa de saliencia
(success, saliencyMap) = saliency.computeSaliency(image)

# Convertir el mapa de saliencia a una escala adecuada para visualizarlo
saliencyMap = (saliencyMap * 255).astype("uint8")

# Crear un heatmap a partir del mapa de saliencia
heatmap = cv2.applyColorMap(saliencyMap, cv2.COLORMAP_JET)

# Convertir el heatmap de BGR (OpenCV) a RGB (Matplotlib)
heatmap_rgb = cv2.cvtColor(heatmap, cv2.COLOR_BGR2RGB)

# Convertir la imagen original de BGR a RGB para Matplotlib
image_rgb = cv2.cvtColor(image, cv2.COLOR_BGR2RGB)

# Crear una figura con dos subplots lado a lado
fig, axes = plt.subplots(1, 2, figsize=(16, 8))

# Mostrar la imagen original en el primer subplot
axes[0].imshow(image_rgb)
axes[0].set_title('Imagen Original', fontsize=14)
axes[0].axis('off')

# Mostrar el heatmap de saliencia en el segundo subplot
heatmap_im = axes[1].imshow(heatmap_rgb)
axes[1].set_title('Heatmap de Saliencia (HC)', fontsize=14)
axes[1].axis('off')

# Agregar una barra de color al heatmap en el segundo subplot
cbar = fig.colorbar(heatmap_im, ax=axes[1], fraction=0.046, pad=0.04)
cbar.set_label('Intensidad de Saliencia')

# Ajustar el layout para que no se solapen los elementos
plt.tight_layout()

# Mostrar la figura con ambos gráficos
plt.show()

# Guardar la figura combinada si se desea
fig.savefig('original_y_heatmap_saliency.png', bbox_inches='tight', dpi=300)

# (Opcional) Descargar la imagen guardada
files.download('original_y_heatmap_saliency.png')
